{
 "cells": [
  {
   "cell_type": "code",
   "execution_count": 1,
   "id": "0380e68b",
   "metadata": {
    "ExecuteTime": {
     "end_time": "2023-08-17T16:04:03.156806Z",
     "start_time": "2023-08-17T16:04:00.426360Z"
    }
   },
   "outputs": [
    {
     "name": "stdout",
     "output_type": "stream",
     "text": [
      "Requirement already satisfied: beautifulsoup4 in c:\\users\\eman_abdelkader\\anaconda3\\lib\\site-packages (4.11.1)\n",
      "Requirement already satisfied: soupsieve>1.2 in c:\\users\\eman_abdelkader\\anaconda3\\lib\\site-packages (from beautifulsoup4) (2.3.1)\n",
      "Note: you may need to restart the kernel to use updated packages.\n"
     ]
    }
   ],
   "source": [
    "pip install beautifulsoup4"
   ]
  },
  {
   "cell_type": "code",
   "execution_count": 2,
   "id": "b31aa947",
   "metadata": {
    "ExecuteTime": {
     "end_time": "2023-08-17T16:04:09.417458Z",
     "start_time": "2023-08-17T16:04:06.987763Z"
    }
   },
   "outputs": [
    {
     "name": "stdout",
     "output_type": "stream",
     "text": [
      "Requirement already satisfied: requests in c:\\users\\eman_abdelkader\\anaconda3\\lib\\site-packages (2.27.1)\n",
      "Requirement already satisfied: idna<4,>=2.5 in c:\\users\\eman_abdelkader\\anaconda3\\lib\\site-packages (from requests) (3.3)\n",
      "Requirement already satisfied: certifi>=2017.4.17 in c:\\users\\eman_abdelkader\\anaconda3\\lib\\site-packages (from requests) (2021.10.8)\n",
      "Requirement already satisfied: urllib3<1.27,>=1.21.1 in c:\\users\\eman_abdelkader\\anaconda3\\lib\\site-packages (from requests) (1.26.9)\n",
      "Requirement already satisfied: charset-normalizer~=2.0.0 in c:\\users\\eman_abdelkader\\anaconda3\\lib\\site-packages (from requests) (2.0.4)\n",
      "Note: you may need to restart the kernel to use updated packages.\n"
     ]
    }
   ],
   "source": [
    "pip install requests\n"
   ]
  },
  {
   "cell_type": "code",
   "execution_count": 9,
   "id": "47e09a33",
   "metadata": {
    "ExecuteTime": {
     "end_time": "2023-08-17T16:11:56.102291Z",
     "start_time": "2023-08-17T16:11:54.133640Z"
    }
   },
   "outputs": [
    {
     "name": "stdout",
     "output_type": "stream",
     "text": [
      "[<div class=\"css-y4udm8\"><style data-emotion=\"css 1lh32fc\">.css-1lh32fc{display:-webkit-box;display:-webkit-flex;display:-ms-flexbox;display:flex;margin-bottom:8px;-webkit-align-items:center;-webkit-box-align:center;-ms-flex-align:center;align-items:center;-webkit-box-flex-wrap:wrap;-webkit-flex-wrap:wrap;-ms-flex-wrap:wrap;flex-wrap:wrap;}</style><div class=\"css-1lh32fc\"><style data-emotion=\"css n2jc4m\">.css-n2jc4m{display:-webkit-inline-box;display:-webkit-inline-flex;display:-ms-inline-flexbox;display:inline-flex;-webkit-align-items:center;-webkit-box-align:center;-ms-flex-align:center;align-items:center;-webkit-text-decoration:none;text-decoration:none;color:inherit;margin-bottom:4px;}</style><a class=\"css-n2jc4m\" href=\"/a/Full-Time-Jobs-in-Egypt\"><style data-emotion=\"css adtuo7\">.css-adtuo7{cursor:pointer;padding:0 4px;border-radius:4px;}</style><style data-emotion=\"css 1ve4b75\">.css-1ve4b75{font-size:12px;font-weight:600;display:-webkit-inline-box;display:-webkit-inline-flex;display:-ms-inline-flexbox;display:inline-flex;-webkit-align-items:center;-webkit-box-align:center;-ms-flex-align:center;align-items:center;min-height:20px;margin-right:4px;border-radius:2px;max-width:196px;white-space:nowrap;overflow:hidden;cursor:default;text-overflow:ellipsis;padding:2px 4px;background-color:#EBEDF0;color:#001433;cursor:pointer;padding:0 4px;border-radius:4px;}</style><span class=\"css-1ve4b75 eoyjyou0\">Full Time</span></a></div><div><a class=\"css-o171kl\" href=\"/a/Manager-Jobs-in-Egypt\">Manager</a> <span>· <!-- -->9 - 15 Yrs of Exp</span><a class=\"css-o171kl\" href=\"/a/IT-Software-Development-Jobs-in-Egypt\"> <!-- -->· <!-- -->IT/Software Development</a><a class=\"css-o171kl\" href=\"/a/Engineering-Telecom-Technology-Jobs-in-Egypt\"> <!-- -->· <!-- -->Engineering - Telecom/Technology</a><a class=\"css-o171kl\" href=\"/a/Engineering-Jobs-in-Egypt\"> <!-- -->· <!-- -->Engineering - Other</a> <!-- -->·<!-- --> <style data-emotion=\"css 5x9pm1\">.css-5x9pm1{-webkit-text-decoration:none;text-decoration:none;color:inherit;max-width:calc(100vw / 2 - 32px);white-space:nowrap;overflow:hidden;text-overflow:ellipsis;display:-webkit-inline-box;display:-webkit-inline-flex;display:-ms-inline-flexbox;display:inline-flex;}</style><a class=\"css-5x9pm1\" href=\"/a/Python-Jobs-in-Egypt\"><span><strong class=\"highlight\">Python</strong></span></a><a class=\"css-5x9pm1\" href=\"/a/Django-Jobs-in-Egypt\"> <!-- -->· <!-- -->Django</a><a class=\"css-5x9pm1\" href=\"/a/Management-Jobs-in-Egypt\"> <!-- -->· <!-- -->Management</a><a class=\"css-5x9pm1\" href=\"/a/Development-Jobs-in-Egypt\"> <!-- -->· <!-- -->Development</a><a class=\"css-5x9pm1\" href=\"/a/Engineering-Jobs-in-Egypt\"> <!-- -->· <!-- -->Engineering</a><a class=\"css-5x9pm1\" href=\"/a/Software-Development-Jobs-in-Egypt\"> <!-- -->· <!-- -->Software Development</a></div></div>, <div class=\"css-y4udm8\"><div class=\"css-1lh32fc\"><a class=\"css-n2jc4m\" href=\"/a/Full-Time-Jobs-in-Egypt\"><span class=\"css-1ve4b75 eoyjyou0\">Full Time</span></a></div><div><a class=\"css-o171kl\" href=\"/a/Experienced-Jobs-in-Egypt\">Experienced</a> <span>· <!-- -->3 - 5 Yrs of Exp</span><a class=\"css-o171kl\" href=\"/a/IT-Software-Development-Jobs-in-Egypt\"> <!-- -->· <!-- -->IT/Software Development</a><a class=\"css-5x9pm1\" href=\"/a/Development-Jobs-in-Egypt\"> <!-- -->· <!-- -->Development</a><a class=\"css-5x9pm1\" href=\"/a/CI-CD-Jobs-in-Egypt\"> <!-- -->· <!-- -->CI/CD</a><a class=\"css-5x9pm1\" href=\"/a/APIs-Jobs-in-Egypt\"> <!-- -->· <!-- -->APIs</a><a class=\"css-5x9pm1\" href=\"/a/Information-Technology-IT-Jobs-in-Egypt\"> <!-- -->· <!-- -->Information Technology (IT)</a><a class=\"css-5x9pm1\" href=\"/a/Software-Jobs-in-Egypt\"> <!-- -->· <!-- -->Software</a> <!-- -->·<!-- --> <a class=\"css-5x9pm1\" href=\"/a/Python-Jobs-in-Egypt\"><span><strong class=\"highlight\">Python</strong></span></a><a class=\"css-5x9pm1\" href=\"/a/Software-Development-Jobs-in-Egypt\"> <!-- -->· <!-- -->Software Development</a><a class=\"css-5x9pm1\" href=\"/a/Programming-Jobs-in-Egypt\"> <!-- -->· <!-- -->Programming</a><a class=\"css-5x9pm1\" href=\"/a/DevOps-Jobs-in-Egypt\"> <!-- -->· <!-- -->DevOps</a></div></div>, <div class=\"css-y4udm8\"><div class=\"css-1lh32fc\"><a class=\"css-n2jc4m\" href=\"/a/Full-Time-Jobs-in-Egypt\"><span class=\"css-1ve4b75 eoyjyou0\">Full Time</span></a></div><div><a class=\"css-o171kl\" href=\"/a/Experienced-Jobs-in-Egypt\">Experienced</a> <span>· <!-- -->2 - 4 Yrs of Exp</span><a class=\"css-o171kl\" href=\"/a/IT-Software-Development-Jobs-in-Egypt\"> <!-- -->· <!-- -->IT/Software Development</a> <!-- -->·<!-- --> <a class=\"css-5x9pm1\" href=\"/a/Python-Jobs-in-Egypt\"><span><strong class=\"highlight\">Python</strong></span></a><a class=\"css-5x9pm1\" href=\"/a/Django-Jobs-in-Egypt\"> <!-- -->· <!-- -->Django</a><a class=\"css-5x9pm1\" href=\"/a/Docker-Jobs-in-Egypt\"> <!-- -->· <!-- -->Docker</a><a class=\"css-5x9pm1\" href=\"/a/Information-Technology-IT-Jobs-in-Egypt\"> <!-- -->· <!-- -->Information Technology (IT)</a><a class=\"css-5x9pm1\" href=\"/a/AWS-Jobs-in-Egypt\"> <!-- -->· <!-- -->AWS</a><a class=\"css-5x9pm1\" href=\"/a/API-Jobs-in-Egypt\"> <!-- -->· <!-- -->API</a><a class=\"css-5x9pm1\" href=\"/a/Angular-Jobs-in-Egypt\"> <!-- -->· <!-- -->Angular</a><a class=\"css-5x9pm1\" href=\"/a/Software-Development-Jobs-in-Egypt\"> <!-- -->· <!-- -->Software Development</a><a class=\"css-5x9pm1\" href=\"/a/NoSQL-Jobs-in-Egypt\"> <!-- -->· <!-- -->NoSQL</a></div></div>, <div class=\"css-y4udm8\"><div class=\"css-1lh32fc\"><a class=\"css-n2jc4m\" href=\"/a/Full-Time-Jobs-in-Egypt\"><span class=\"css-1ve4b75 eoyjyou0\">Full Time</span></a></div><div><a class=\"css-o171kl\" href=\"/a/Experienced-Jobs-in-Egypt\">Experienced</a> <span>· <!-- -->5+ Yrs of Exp</span><a class=\"css-o171kl\" href=\"/a/IT-Software-Development-Jobs-in-Egypt\"> <!-- -->· <!-- -->IT/Software Development</a><a class=\"css-o171kl\" href=\"/a/Engineering-Telecom-Technology-Jobs-in-Egypt\"> <!-- -->· <!-- -->Engineering - Telecom/Technology</a><a class=\"css-5x9pm1\" href=\"/a/Agile-Jobs-in-Egypt\"> <!-- -->· <!-- -->Agile</a><a class=\"css-5x9pm1\" href=\"/a/Computer-Science-Jobs-in-Egypt\"> <!-- -->· <!-- -->Computer Science</a><a class=\"css-5x9pm1\" href=\"/a/APIs-Jobs-in-Egypt\"> <!-- -->· <!-- -->APIs</a><a class=\"css-5x9pm1\" href=\"/a/CSS-Jobs-in-Egypt\"> <!-- -->· <!-- -->CSS</a><a class=\"css-5x9pm1\" href=\"/a/Design-Jobs-in-Egypt\"> <!-- -->· <!-- -->Design</a><a class=\"css-5x9pm1\" href=\"/a/Development-Jobs-in-Egypt\"> <!-- -->· <!-- -->Development</a><a class=\"css-5x9pm1\" href=\"/a/Front-End-Jobs-in-Egypt\"> <!-- -->· <!-- -->Front end</a><a class=\"css-5x9pm1\" href=\"/a/HTML-Jobs-in-Egypt\"> <!-- -->· <!-- -->HTML</a></div></div>, <div class=\"css-y4udm8\"><div class=\"css-1lh32fc\"><a class=\"css-n2jc4m\" href=\"/a/Full-Time-Jobs-in-Egypt\"><span class=\"css-1ve4b75 eoyjyou0\">Full Time</span></a><a class=\"css-n2jc4m\" href=\"/a/Work-From-Home-Jobs-in-Egypt\"><span class=\"css-1ve4b75 eoyjyou0\">Work From Home</span></a></div><div><a class=\"css-o171kl\" href=\"/a/Experienced-Jobs-in-Egypt\">Experienced</a> <span>· <!-- -->5 - 8 Yrs of Exp</span><a class=\"css-o171kl\" href=\"/a/IT-Software-Development-Jobs-in-Egypt\"> <!-- -->· <!-- -->IT/Software Development</a><a class=\"css-5x9pm1\" href=\"/a/JavaScript-Jobs-in-Egypt\"> <!-- -->· <!-- -->JavaScript</a><a class=\"css-5x9pm1\" href=\"/a/OOP-Jobs-in-Egypt\"> <!-- -->· <!-- -->OOP</a> <!-- -->·<!-- --> <a class=\"css-5x9pm1\" href=\"/a/Python-Jobs-in-Egypt\"><span><strong class=\"highlight\">Python</strong></span></a><a class=\"css-5x9pm1\" href=\"/a/Software-Development-Jobs-in-Egypt\"> <!-- -->· <!-- -->Software Development</a><a class=\"css-5x9pm1\" href=\"/a/Django-Jobs-in-Egypt\"> <!-- -->· <!-- -->Django</a><a class=\"css-5x9pm1\" href=\"/a/HTML5-Jobs-in-Egypt\"> <!-- -->· <!-- -->HTML5</a><a class=\"css-5x9pm1\" href=\"/a/Programming-Jobs-in-Egypt\"> <!-- -->· <!-- -->Programming</a><a class=\"css-5x9pm1\" href=\"/a/Computer-Science-Jobs-in-Egypt\"> <!-- -->· <!-- -->Computer Science</a><a class=\"css-5x9pm1\" href=\"/a/Front-End-Jobs-in-Egypt\"> <!-- -->· <!-- -->front-end</a></div></div>, <div class=\"css-y4udm8\"><div class=\"css-1lh32fc\"><a class=\"css-n2jc4m\" href=\"/a/Full-Time-Jobs-in-Egypt\"><span class=\"css-1ve4b75 eoyjyou0\">Full Time</span></a></div><div><a class=\"css-o171kl\" href=\"/a/Experienced-Jobs-in-Egypt\">Experienced</a> <span>· <!-- -->5+ Yrs of Exp</span><a class=\"css-o171kl\" href=\"/a/Installation-Maintenance-Jobs-in-Egypt\"> <!-- -->· <!-- -->Installation/Maintenance/Repair</a><a class=\"css-o171kl\" href=\"/a/IT-Software-Development-Jobs-in-Egypt\"> <!-- -->· <!-- -->IT/Software Development</a><a class=\"css-o171kl\" href=\"/a/Engineering-Telecom-Technology-Jobs-in-Egypt\"> <!-- -->· <!-- -->Engineering - Telecom/Technology</a><a class=\"css-5x9pm1\" href=\"/a/Computer-Science-Jobs-in-Egypt\"> <!-- -->· <!-- -->Computer Science</a> <!-- -->·<!-- --> <a class=\"css-5x9pm1\" href=\"/a/Python-Jobs-in-Egypt\"><span><strong class=\"highlight\">Python</strong></span></a><a class=\"css-5x9pm1\" href=\"/a/Odoo-Jobs-in-Egypt\"> <!-- -->· <!-- -->Odoo</a><a class=\"css-5x9pm1\" href=\"/a/Git-Jobs-in-Egypt\"> <!-- -->· <!-- -->Git</a><a class=\"css-5x9pm1\" href=\"/a/Software-Development-Jobs-in-Egypt\"> <!-- -->· <!-- -->Software Development</a><a class=\"css-5x9pm1\" href=\"/a/JavaScript-Jobs-in-Egypt\"> <!-- -->· <!-- -->JavaScript</a><a class=\"css-5x9pm1\" href=\"/a/Software-Jobs-in-Egypt\"> <!-- -->· <!-- -->Software</a></div></div>, <div class=\"css-y4udm8\"><div class=\"css-1lh32fc\"><a class=\"css-n2jc4m\" href=\"/a/Full-Time-Jobs-in-Egypt\"><span class=\"css-1ve4b75 eoyjyou0\">Full Time</span></a><a class=\"css-n2jc4m\" href=\"/a/Work-From-Home-Jobs-in-Egypt\"><span class=\"css-1ve4b75 eoyjyou0\">Work From Home</span></a></div><div><a class=\"css-o171kl\" href=\"/a/Not-Specified-Jobs-in-Egypt\">Not specified</a><a class=\"css-o171kl\" href=\"/a/Business-Jobs-in-Egypt\"> <!-- -->· <!-- -->Business Development</a><a class=\"css-o171kl\" href=\"/a/IT-Software-Development-Jobs-in-Egypt\"> <!-- -->· <!-- -->IT/Software Development</a><a class=\"css-o171kl\" href=\"/a/Engineering-Telecom-Technology-Jobs-in-Egypt\"> <!-- -->· <!-- -->Engineering - Telecom/Technology</a><a class=\"css-5x9pm1\" href=\"/a/Information-Technology-IT-Jobs-in-Egypt\"> <!-- -->· <!-- -->Information Technology (IT)</a><a class=\"css-5x9pm1\" href=\"/a/Computer-Science-Jobs-in-Egypt\"> <!-- -->· <!-- -->Computer Science</a><a class=\"css-5x9pm1\" href=\"/a/Software-Development-Jobs-in-Egypt\"> <!-- -->· <!-- -->Software Development</a><a class=\"css-5x9pm1\" href=\"/a/Software-Engineering-Jobs-in-Egypt\"> <!-- -->· <!-- -->Software Engineering</a><a class=\"css-5x9pm1\" href=\"/a/JavaScript-Jobs-in-Egypt\"> <!-- -->· <!-- -->javaScript</a><a class=\"css-5x9pm1\" href=\"/a/HTML-Jobs-in-Egypt\"> <!-- -->· <!-- -->HTML</a><a class=\"css-5x9pm1\" href=\"/a/SQL-Jobs-in-Egypt\"> <!-- -->· <!-- -->SQL</a></div></div>, <div class=\"css-y4udm8\"><div class=\"css-1lh32fc\"><a class=\"css-n2jc4m\" href=\"/a/Full-Time-Jobs-in-Egypt\"><span class=\"css-1ve4b75 eoyjyou0\">Full Time</span></a></div><div><a class=\"css-o171kl\" href=\"/a/Experienced-Jobs-in-Egypt\">Experienced</a> <span>· <!-- -->5 - 10 Yrs of Exp</span><a class=\"css-o171kl\" href=\"/a/IT-Software-Development-Jobs-in-Egypt\"> <!-- -->· <!-- -->IT/Software Development</a><a class=\"css-o171kl\" href=\"/a/Engineering-Telecom-Technology-Jobs-in-Egypt\"> <!-- -->· <!-- -->Engineering - Telecom/Technology</a><a class=\"css-5x9pm1\" href=\"/a/Django-Jobs-in-Egypt\"> <!-- -->· <!-- -->Django</a><a class=\"css-5x9pm1\" href=\"/a/Engineering-Jobs-in-Egypt\"> <!-- -->· <!-- -->Engineering</a><a class=\"css-5x9pm1\" href=\"/a/Git-Jobs-in-Egypt\"> <!-- -->· <!-- -->Git</a><a class=\"css-5x9pm1\" href=\"/a/Information-Technology-IT-Jobs-in-Egypt\"> <!-- -->· <!-- -->Information Technology (IT)</a><a class=\"css-5x9pm1\" href=\"/a/OOP-Jobs-in-Egypt\"> <!-- -->· <!-- -->OOP</a><a class=\"css-5x9pm1\" href=\"/a/PHP-Jobs-in-Egypt\"> <!-- -->· <!-- -->PHP</a><a class=\"css-5x9pm1\" href=\"/a/Programming-Jobs-in-Egypt\"> <!-- -->· <!-- -->Programming</a><a class=\"css-5x9pm1\" href=\"/a/Software-Development-Jobs-in-Egypt\"> <!-- -->· <!-- -->Software Development</a></div></div>, <div class=\"css-y4udm8\"><div class=\"css-1lh32fc\"><a class=\"css-n2jc4m\" href=\"/a/Full-Time-Jobs-in-Egypt\"><span class=\"css-1ve4b75 eoyjyou0\">Full Time</span></a></div><div><a class=\"css-o171kl\" href=\"/a/Experienced-Jobs-in-Egypt\">Experienced</a> <span>· <!-- -->1 - 4 Yrs of Exp</span><a class=\"css-o171kl\" href=\"/a/IT-Software-Development-Jobs-in-Egypt\"> <!-- -->· <!-- -->IT/Software Development</a><a class=\"css-o171kl\" href=\"/a/Quality-Jobs-in-Egypt\"> <!-- -->· <!-- -->Quality</a> <!-- -->·<!-- --> <a class=\"css-5x9pm1\" href=\"/a/Python-Jobs-in-Egypt\"><span><strong class=\"highlight\">Python</strong></span></a><a class=\"css-5x9pm1\" href=\"/a/API-Jobs-in-Egypt\"> <!-- -->· <!-- -->API</a><a class=\"css-5x9pm1\" href=\"/a/Automation-Jobs-in-Egypt\"> <!-- -->· <!-- -->Automation</a><a class=\"css-5x9pm1\" href=\"/a/QA-Jobs-in-Egypt\"> <!-- -->· <!-- -->QA</a><a class=\"css-5x9pm1\" href=\"/a/Software-Development-Jobs-in-Egypt\"> <!-- -->· <!-- -->Software Development</a></div></div>, <div class=\"css-y4udm8\"><div class=\"css-1lh32fc\"><a class=\"css-n2jc4m\" href=\"/a/Full-Time-Jobs-in-Egypt\"><span class=\"css-1ve4b75 eoyjyou0\">Full Time</span></a></div><div><a class=\"css-o171kl\" href=\"/a/Experienced-Jobs-in-Egypt\">Experienced</a> <span>· <!-- -->4 - 8 Yrs of Exp</span><a class=\"css-o171kl\" href=\"/a/IT-Software-Development-Jobs-in-Egypt\"> <!-- -->· <!-- -->IT/Software Development</a><a class=\"css-o171kl\" href=\"/a/Engineering-Telecom-Technology-Jobs-in-Egypt\"> <!-- -->· <!-- -->Engineering - Telecom/Technology</a><a class=\"css-5x9pm1\" href=\"/a/API-Jobs-in-Egypt\"> <!-- -->· <!-- -->API</a> <!-- -->·<!-- --> <a class=\"css-5x9pm1\" href=\"/a/Python-Jobs-in-Egypt\"><span><strong class=\"highlight\">Python</strong></span></a><a class=\"css-5x9pm1\" href=\"/a/Backend-Jobs-in-Egypt\"> <!-- -->· <!-- -->backend</a><a class=\"css-5x9pm1\" href=\"/a/Information-Technology-IT-Jobs-in-Egypt\"> <!-- -->· <!-- -->Information Technology (IT)</a><a class=\"css-5x9pm1\" href=\"/a/JSON-Jobs-in-Egypt\"> <!-- -->· <!-- -->JSON</a><a class=\"css-5x9pm1\" href=\"/a/Computer-Science-Jobs-in-Egypt\"> <!-- -->· <!-- -->Computer Science</a><a class=\"css-5x9pm1\" href=\"/a/Automation-Jobs-in-Egypt\"> <!-- -->· <!-- -->Automation</a><a class=\"css-5x9pm1\" href=\"/a/Software-Development-Jobs-in-Egypt\"> <!-- -->· <!-- -->Software Development</a></div></div>, <div class=\"css-y4udm8\"><div class=\"css-1lh32fc\"><a class=\"css-n2jc4m\" href=\"/a/Full-Time-Jobs-in-Egypt\"><span class=\"css-1ve4b75 eoyjyou0\">Full Time</span></a></div><div><a class=\"css-o171kl\" href=\"/a/Experienced-Jobs-in-Egypt\">Experienced</a> <span>· <!-- -->1 - 2 Yrs of Exp</span><a class=\"css-o171kl\" href=\"/a/IT-Software-Development-Jobs-in-Egypt\"> <!-- -->· <!-- -->IT/Software Development</a><a class=\"css-o171kl\" href=\"/a/Engineering-Telecom-Technology-Jobs-in-Egypt\"> <!-- -->· <!-- -->Engineering - Telecom/Technology</a><a class=\"css-5x9pm1\" href=\"/a/Computer-Science-Jobs-in-Egypt\"> <!-- -->· <!-- -->Computer Science</a><a class=\"css-5x9pm1\" href=\"/a/Computer-Engineering-Jobs-in-Egypt\"> <!-- -->· <!-- -->Computer Engineering</a><a class=\"css-5x9pm1\" href=\"/a/Engineering-Jobs-in-Egypt\"> <!-- -->· <!-- -->Engineering</a><a class=\"css-5x9pm1\" href=\"/a/Software-Development-Jobs-in-Egypt\"> <!-- -->· <!-- -->Software Development</a><a class=\"css-5x9pm1\" href=\"/a/JavaScript-Jobs-in-Egypt\"> <!-- -->· <!-- -->JavaScript</a><a class=\"css-5x9pm1\" href=\"/a/Information-Technology-IT-Jobs-in-Egypt\"> <!-- -->· <!-- -->Information Technology (IT)</a><a class=\"css-5x9pm1\" href=\"/a/HTML-Jobs-in-Egypt\"> <!-- -->· <!-- -->HTML</a><a class=\"css-5x9pm1\" href=\"/a/PHP-Jobs-in-Egypt\"> <!-- -->· <!-- -->PHP</a></div></div>, <div class=\"css-y4udm8\"><div class=\"css-1lh32fc\"><a class=\"css-n2jc4m\" href=\"/a/Full-Time-Jobs-in-Egypt\"><span class=\"css-1ve4b75 eoyjyou0\">Full Time</span></a></div><div><a class=\"css-o171kl\" href=\"/a/Experienced-Jobs-in-Egypt\">Experienced</a> <span>· <!-- -->5 - 7 Yrs of Exp</span><a class=\"css-o171kl\" href=\"/a/Installation-Maintenance-Jobs-in-Egypt\"> <!-- -->· <!-- -->Installation/Maintenance/Repair</a><a class=\"css-o171kl\" href=\"/a/IT-Software-Development-Jobs-in-Egypt\"> <!-- -->· <!-- -->IT/Software Development</a><a class=\"css-o171kl\" href=\"/a/Engineering-Telecom-Technology-Jobs-in-Egypt\"> <!-- -->· <!-- -->Engineering - Telecom/Technology</a><a class=\"css-5x9pm1\" href=\"/a/Odoo-Jobs-in-Egypt\"> <!-- -->· <!-- -->Odoo</a><a class=\"css-5x9pm1\" href=\"/a/Information-Technology-IT-Jobs-in-Egypt\"> <!-- -->· <!-- -->Information Technology (IT)</a><a class=\"css-5x9pm1\" href=\"/a/ERP-Jobs-in-Egypt\"> <!-- -->· <!-- -->ERP</a><a class=\"css-5x9pm1\" href=\"/a/Odoo-ERP-Jobs-in-Egypt\"> <!-- -->· <!-- -->Odoo ERP</a><a class=\"css-5x9pm1\" href=\"/a/Accounting-Jobs-in-Egypt\"> <!-- -->· <!-- -->Accounting</a><a class=\"css-5x9pm1\" href=\"/a/Computer-Science-Jobs-in-Egypt\"> <!-- -->· <!-- -->Computer Science</a><a class=\"css-5x9pm1\" href=\"/a/Odoo-Development-Jobs-in-Egypt\"> <!-- -->· <!-- -->Odoo Development</a></div></div>, <div class=\"css-y4udm8\"><div class=\"css-1lh32fc\"><a class=\"css-n2jc4m\" href=\"/a/Full-Time-Jobs-in-Egypt\"><span class=\"css-1ve4b75 eoyjyou0\">Full Time</span></a></div><div><a class=\"css-o171kl\" href=\"/a/Experienced-Jobs-in-Egypt\">Experienced</a><a class=\"css-o171kl\" href=\"/a/IT-Software-Development-Jobs-in-Egypt\"> <!-- -->· <!-- -->IT/Software Development</a><a class=\"css-o171kl\" href=\"/a/Engineering-Telecom-Technology-Jobs-in-Egypt\"> <!-- -->· <!-- -->Engineering - Telecom/Technology</a><a class=\"css-5x9pm1\" href=\"/a/Architect-Jobs-in-Egypt\"> <!-- -->· <!-- -->Architect</a><a class=\"css-5x9pm1\" href=\"/a/Computer-Science-Jobs-in-Egypt\"> <!-- -->· <!-- -->Computer Science</a><a class=\"css-5x9pm1\" href=\"/a/Engineering-Jobs-in-Egypt\"> <!-- -->· <!-- -->Engineering</a><a class=\"css-5x9pm1\" href=\"/a/Information-Technology-IT-Jobs-in-Egypt\"> <!-- -->· <!-- -->Information Technology (IT)</a><a class=\"css-5x9pm1\" href=\"/a/System-Jobs-in-Egypt\"> <!-- -->· <!-- -->system</a><a class=\"css-5x9pm1\" href=\"/a/Architecture-Jobs-in-Egypt\"> <!-- -->· <!-- -->Architecture</a><a class=\"css-5x9pm1\" href=\"/a/Cloud-Architect-Jobs-in-Egypt\"> <!-- -->· <!-- -->Cloud Architect</a><a class=\"css-5x9pm1\" href=\"/a/PowerShell-Jobs-in-Egypt\"> <!-- -->· <!-- -->PowerShell</a></div></div>, <div class=\"css-y4udm8\"><div class=\"css-1lh32fc\"><a class=\"css-n2jc4m\" href=\"/a/Full-Time-Jobs-in-Egypt\"><span class=\"css-1ve4b75 eoyjyou0\">Full Time</span></a></div><div><a class=\"css-o171kl\" href=\"/a/Senior-Management-Jobs-in-Egypt\">Senior Management</a> <span>· <!-- -->5 - 10 Yrs of Exp</span><a class=\"css-o171kl\" href=\"/a/IT-Software-Development-Jobs-in-Egypt\"> <!-- -->· <!-- -->IT/Software Development</a><a class=\"css-o171kl\" href=\"/a/Operations-Management-Jobs-in-Egypt\"> <!-- -->· <!-- -->Operations/Management</a><a class=\"css-o171kl\" href=\"/a/Engineering-Telecom-Technology-Jobs-in-Egypt\"> <!-- -->· <!-- -->Engineering - Telecom/Technology</a><a class=\"css-5x9pm1\" href=\"/a/Computer-Science-Jobs-in-Egypt\"> <!-- -->· <!-- -->Computer Science</a><a class=\"css-5x9pm1\" href=\"/a/Frameworks-Jobs-in-Egypt\"> <!-- -->· <!-- -->Frameworks</a><a class=\"css-5x9pm1\" href=\"/a/Development-Jobs-in-Egypt\"> <!-- -->· <!-- -->Development</a><a class=\"css-5x9pm1\" href=\"/a/Information-Technology-IT-Jobs-in-Egypt\"> <!-- -->· <!-- -->Information Technology (IT)</a><a class=\"css-5x9pm1\" href=\"/a/Node-Js-Jobs-in-Egypt\"> <!-- -->· <!-- -->Node.js</a><a class=\"css-5x9pm1\" href=\"/a/Programming-Jobs-in-Egypt\"> <!-- -->· <!-- -->Programming</a><a class=\"css-5x9pm1\" href=\"/a/Js-Jobs-in-Egypt\"> <!-- -->· <!-- -->Js</a></div></div>, <div class=\"css-y4udm8\"><div class=\"css-1lh32fc\"><a class=\"css-n2jc4m\" href=\"/a/Full-Time-Jobs-in-Egypt\"><span class=\"css-1ve4b75 eoyjyou0\">Full Time</span></a></div><div><a class=\"css-o171kl\" href=\"/a/Experienced-Jobs-in-Egypt\">Experienced</a> <span>· <!-- -->4+ Yrs of Exp</span><a class=\"css-o171kl\" href=\"/a/IT-Software-Development-Jobs-in-Egypt\"> <!-- -->· <!-- -->IT/Software Development</a><a class=\"css-5x9pm1\" href=\"/a/Big-Data-Jobs-in-Egypt\"> <!-- -->· <!-- -->Big Data</a><a class=\"css-5x9pm1\" href=\"/a/Computer-Science-Jobs-in-Egypt\"> <!-- -->· <!-- -->Computer Science</a><a class=\"css-5x9pm1\" href=\"/a/Data-Analytics-Jobs-in-Egypt\"> <!-- -->· <!-- -->Data Analytics</a><a class=\"css-5x9pm1\" href=\"/a/Data-Science-Jobs-in-Egypt\"> <!-- -->· <!-- -->Data Science</a><a class=\"css-5x9pm1\" href=\"/a/Data-Jobs-in-Egypt\"> <!-- -->· <!-- -->Data</a><a class=\"css-5x9pm1\" href=\"/a/Data-Scientist-Jobs-in-Egypt\"> <!-- -->· <!-- -->data scientist</a><a class=\"css-5x9pm1\" href=\"/a/Information-Technology-IT-Jobs-in-Egypt\"> <!-- -->· <!-- -->Information Technology (IT)</a><a class=\"css-5x9pm1\" href=\"/a/Mathematics-Jobs-in-Egypt\"> <!-- -->· <!-- -->Mathematics</a><a class=\"css-5x9pm1\" href=\"/a/Science-Jobs-in-Egypt\"> <!-- -->· <!-- -->Science</a></div></div>]\n"
     ]
    }
   ],
   "source": [
    "import requests\n",
    "from bs4 import BeautifulSoup\n",
    "import csv\n",
    "from itertools import zip_longest\n",
    "\n",
    "job_tittles=[]\n",
    "companies_namess=[]\n",
    "skills=[]\n",
    "links=[]\n",
    "full_part_times=[]\n",
    "\n",
    "result = requests.get(\"https://wuzzuf.net/search/jobs/?a=hpb%7Cspbg&q=%%python\")\n",
    "\n",
    "scr= result.content\n",
    "#print(scr)\n",
    "\n",
    "soup = BeautifulSoup(scr, 'lxml')\n",
    "#print(soup)\n",
    "\n",
    "job_tittle=soup.find_all(\"h2\", {\"class\" : \"css-m604qf\"})\n",
    "#print(job_tittle)\n",
    "\n",
    "companies_names=soup.find_all(\"a\" , {\"class\":\"css-17s97q8\"})\n",
    "#print(companies_names)\n",
    "\n",
    "job_skills=soup.find_all(\"div\" , {\"class\":\"css-y4udm8\"})\n",
    "print(job_skills)\n",
    "\n",
    "full_part_time=soup.find_all(\"div\" , {\"class\":\"css-1lh32fc\"})\n",
    "\n",
    "for i in range (len(job_tittle)) :\n",
    "    job_tittles.append(job_tittle[i].text)\n",
    "    links.append(\"https://wuzzuf.net\"+job_tittle[i].find(\"a\").attrs['href'])\n",
    "    companies_namess.append(companies_names[i].text)\n",
    "    skills.append(job_skills[i].text) \n",
    "    full_part_times.append(full_part_time[i].text)\n",
    "    #print(soup.div)\n",
    "    #print(job_tittle , companies_names)\n",
    "    \n",
    "file_list=[job_tittles , companies_namess , skills ,full_part_times, links] \n",
    "exported=zip_longest(*file_list)\n",
    "with open(\"\\\\Users\\\\Eman_Abdelkader\\\\Documents\\\\wuzzufScraping.csv\" , \"w\") as ScrapingFile :\n",
    "    writer_object= csv.writer(ScrapingFile)\n",
    "    writer_object.writerow([\"job tittle\" , \" company name\" ,\"Skills\" ,\"full/part time\",\" links here\"])\n",
    "    writer_object.writerows(exported)\n",
    "    \n",
    "    \n",
    "    "
   ]
  },
  {
   "cell_type": "code",
   "execution_count": null,
   "id": "c4071b9b",
   "metadata": {},
   "outputs": [],
   "source": []
  }
 ],
 "metadata": {
  "kernelspec": {
   "display_name": "Python 3 (ipykernel)",
   "language": "python",
   "name": "python3"
  },
  "language_info": {
   "codemirror_mode": {
    "name": "ipython",
    "version": 3
   },
   "file_extension": ".py",
   "mimetype": "text/x-python",
   "name": "python",
   "nbconvert_exporter": "python",
   "pygments_lexer": "ipython3",
   "version": "3.9.12"
  }
 },
 "nbformat": 4,
 "nbformat_minor": 5
}
